{
 "cells": [
  {
   "cell_type": "code",
   "execution_count": 1,
   "metadata": {
    "slideshow": {
     "slide_type": "slide"
    },
    "tags": [
     "parameters"
    ]
   },
   "outputs": [],
   "source": [
    "exec_date = '2019-02-20'\n"
   ]
  },
  {
   "cell_type": "code",
   "execution_count": 2,
   "metadata": {
    "tags": [
     "logging"
    ]
   },
   "outputs": [],
   "source": [
    "import os\n",
    "import sys\n",
    "\n",
    "if os.environ['APP_TYPE'] == 'jupyter':\n",
    "    import logging as logger\n",
    "    logger.basicConfig(format='%(levelname)s : %(message)s', level=logger.INFO, stream=sys.stdout)\n",
    "else:\n",
    "    import logging\n",
    "    logger = logging.getLogger(__name__)"
   ]
  },
  {
   "cell_type": "code",
   "execution_count": 3,
   "metadata": {
    "tags": [
     "get_spark_session"
    ]
   },
   "outputs": [
    {
     "name": "stdout",
     "output_type": "stream",
     "text": [
      "INFO : get spark session, mode: local ...\n",
      "INFO : set spark configuration ...\n",
      "INFO : spark.executor.cores = 1\n",
      "INFO : spark.driver.cores = 1\n",
      "INFO : spark.driver.memory = 1g\n",
      "INFO : spark.port.maxretries = 100\n",
      "INFO : spark.num.executors = 1\n",
      "INFO : spark.executor.memory = 1g\n"
     ]
    }
   ],
   "source": [
    "from cathay.setting.jupyter.jupyter_spark_session import JupyterSparkSession\n",
    "\n",
    "jss = JupyterSparkSession()\n",
    "spark = jss.get_spark_session()"
   ]
  },
  {
   "cell_type": "code",
   "execution_count": 4,
   "metadata": {
    "tags": [
     "load_config"
    ]
   },
   "outputs": [],
   "source": [
    "from cathay.setting.config.config_utils import load_config\n",
    "\n",
    "configs = load_config()"
   ]
  },
  {
   "cell_type": "code",
   "execution_count": 5,
   "metadata": {},
   "outputs": [
    {
     "data": {
      "text/plain": [
       "u'hippo-batchetl-example-hippo-name'"
      ]
     },
     "execution_count": 5,
     "metadata": {},
     "output_type": "execute_result"
    }
   ],
   "source": [
    "configs.get('job.name')"
   ]
  },
  {
   "cell_type": "code",
   "execution_count": 6,
   "metadata": {},
   "outputs": [
    {
     "name": "stdout",
     "output_type": "stream",
     "text": [
      "+---+---+\n",
      "|  a|  b|\n",
      "+---+---+\n",
      "|  1|  2|\n",
      "|  3|  4|\n",
      "+---+---+\n",
      "\n"
     ]
    }
   ],
   "source": [
    "df = spark.createDataFrame([(1,2), (3, 4)], ['a', 'b'])\n",
    "df.show()"
   ]
  },
  {
   "cell_type": "code",
   "execution_count": 7,
   "metadata": {},
   "outputs": [
    {
     "data": {
      "text/plain": [
       "'out from jupyter'"
      ]
     },
     "execution_count": 7,
     "metadata": {},
     "output_type": "execute_result"
    }
   ],
   "source": [
    "jupyter_output = 'out from jupyter'\n",
    "jupyter_output"
   ]
  },
  {
   "cell_type": "code",
   "execution_count": 8,
   "metadata": {},
   "outputs": [
    {
     "name": "stdout",
     "output_type": "stream",
     "text": [
      "out from print\n"
     ]
    }
   ],
   "source": [
    "print 'out from print'"
   ]
  },
  {
   "cell_type": "code",
   "execution_count": 9,
   "metadata": {},
   "outputs": [
    {
     "name": "stdout",
     "output_type": "stream",
     "text": [
      "INFO : out from info\n"
     ]
    }
   ],
   "source": [
    "logger.info('out from info')"
   ]
  },
  {
   "cell_type": "code",
   "execution_count": 10,
   "metadata": {
    "tags": [
     "close_spark_session"
    ]
   },
   "outputs": [
    {
     "name": "stdout",
     "output_type": "stream",
     "text": [
      "INFO : close spark session ...\n"
     ]
    }
   ],
   "source": [
    "jss.close_spark_session()"
   ]
  }
 ],
 "metadata": {
  "celltoolbar": "Tags",
  "kernelspec": {
   "display_name": "Python 2",
   "language": "python",
   "name": "python2"
  },
  "language_info": {
   "codemirror_mode": {
    "name": "ipython",
    "version": 2
   },
   "file_extension": ".py",
   "mimetype": "text/x-python",
   "name": "python",
   "nbconvert_exporter": "python",
   "pygments_lexer": "ipython2",
   "version": "2.7.15"
  }
 },
 "nbformat": 4,
 "nbformat_minor": 2
}
