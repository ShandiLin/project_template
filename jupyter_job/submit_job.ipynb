{
 "cells": [
  {
   "cell_type": "code",
   "execution_count": 1,
   "metadata": {
    "slideshow": {
     "slide_type": "slide"
    },
    "tags": [
     "parameters"
    ]
   },
   "outputs": [],
   "source": [
    "yyyymm = '201810'\n",
    "db_tbl = 'btmp_cmd.nt82711_source'"
   ]
  },
  {
   "cell_type": "code",
   "execution_count": 2,
   "metadata": {
    "tags": [
     "logging"
    ]
   },
   "outputs": [],
   "source": [
    "import os\n",
    "import sys\n",
    "\n",
    "if os.environ['APP_TYPE'] == 'jupyter':\n",
    "    import logging as logger\n",
    "    logger.basicConfig(format='%(asctime)s | %(levelname)s : %(message)s', level=logger.INFO, stream=sys.stdout)\n",
    "else:\n",
    "    import logging\n",
    "    logger = logging.getLogger(__name__)"
   ]
  },
  {
   "cell_type": "code",
   "execution_count": 3,
   "metadata": {
    "tags": [
     "get_spark_session"
    ]
   },
   "outputs": [
    {
     "name": "stdout",
     "output_type": "stream",
     "text": [
      "2019-01-15 01:12:19,113 | INFO : get spark session, mode: local ...\n",
      "2019-01-15 01:12:23,047 | INFO : set spark configuration ...\n",
      "2019-01-15 01:12:23,049 | INFO : spark.executor.cores = 1\n",
      "2019-01-15 01:12:23,052 | INFO : spark.driver.cores = 1\n",
      "2019-01-15 01:12:23,054 | INFO : spark.driver.memory = 1g\n",
      "2019-01-15 01:12:23,056 | INFO : spark.port.maxretries = 100\n",
      "2019-01-15 01:12:23,059 | INFO : spark.num.executors = 1\n",
      "2019-01-15 01:12:23,061 | INFO : spark.executor.memory = 1g\n"
     ]
    }
   ],
   "source": [
    "from cathay.setting.jupyter.jupyter_spark_session import JupyterSparkSession\n",
    "\n",
    "jss = JupyterSparkSession()\n",
    "spark = jss.get_spark_session()"
   ]
  },
  {
   "cell_type": "code",
   "execution_count": 4,
   "metadata": {},
   "outputs": [
    {
     "name": "stdout",
     "output_type": "stream",
     "text": [
      "+---+---+\n",
      "|  a|  b|\n",
      "+---+---+\n",
      "|  1|  2|\n",
      "|  3|  4|\n",
      "+---+---+\n",
      "\n"
     ]
    }
   ],
   "source": [
    "df = spark.createDataFrame([(1,2), (3, 4)], ['a', 'b'])\n",
    "df.show()"
   ]
  },
  {
   "cell_type": "code",
   "execution_count": 5,
   "metadata": {},
   "outputs": [
    {
     "data": {
      "text/plain": [
       "'out from jupyter'"
      ]
     },
     "execution_count": 5,
     "metadata": {},
     "output_type": "execute_result"
    }
   ],
   "source": [
    "jupyter_output = 'out from jupyter'\n",
    "jupyter_output"
   ]
  },
  {
   "cell_type": "code",
   "execution_count": 6,
   "metadata": {},
   "outputs": [
    {
     "name": "stdout",
     "output_type": "stream",
     "text": [
      "out from print\n"
     ]
    }
   ],
   "source": [
    "print 'out from print'"
   ]
  },
  {
   "cell_type": "code",
   "execution_count": 7,
   "metadata": {},
   "outputs": [
    {
     "name": "stdout",
     "output_type": "stream",
     "text": [
      "2019-01-15 01:12:31,539 | INFO : out from info\n"
     ]
    }
   ],
   "source": [
    "logger.info('out from info')"
   ]
  },
  {
   "cell_type": "code",
   "execution_count": 8,
   "metadata": {
    "tags": [
     "close_spark_session"
    ]
   },
   "outputs": [
    {
     "name": "stdout",
     "output_type": "stream",
     "text": [
      "2019-01-15 01:12:31,557 | INFO : close spark session ...\n"
     ]
    }
   ],
   "source": [
    "jss.close_spark_session()"
   ]
  }
 ],
 "metadata": {
  "celltoolbar": "Tags",
  "kernelspec": {
   "display_name": "Python 2",
   "language": "python",
   "name": "python2"
  },
  "language_info": {
   "codemirror_mode": {
    "name": "ipython",
    "version": 2
   },
   "file_extension": ".py",
   "mimetype": "text/x-python",
   "name": "python",
   "nbconvert_exporter": "python",
   "pygments_lexer": "ipython2",
   "version": "2.7.15"
  }
 },
 "nbformat": 4,
 "nbformat_minor": 2
}
